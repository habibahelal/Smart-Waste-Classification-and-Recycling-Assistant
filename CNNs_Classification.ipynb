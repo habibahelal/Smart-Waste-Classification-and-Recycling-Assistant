{
  "nbformat": 4,
  "nbformat_minor": 0,
  "metadata": {
    "colab": {
      "provenance": [],
      "gpuType": "T4"
    },
    "kernelspec": {
      "name": "python3",
      "display_name": "Python 3"
    },
    "language_info": {
      "name": "python"
    },
    "accelerator": "GPU"
  },
  "cells": [
    {
      "cell_type": "markdown",
      "source": [
        "# **Data Preprocessing**"
      ],
      "metadata": {
        "id": "lZXK3LHpqgEO"
      }
    },
    {
      "cell_type": "markdown",
      "source": [
        "# **Dataset Loading**"
      ],
      "metadata": {
        "id": "nj7tYqIaqk1p"
      }
    },
    {
      "cell_type": "markdown",
      "source": [
        "**Dataset Selected — Garbage Classification**\n",
        "\n",
        "\n",
        "The Garbage Classification Dataset is a computer vision dataset created to train and evaluate models that can classify waste into different categories, supporting smart waste management and recycling initiatives.\n",
        "\n",
        "**This dataset can be used to:**\n",
        "\n",
        "Build real-world applications for recycling, waste monitoring, and sustainability."
      ],
      "metadata": {
        "id": "ALHuOQBytHY8"
      }
    },
    {
      "cell_type": "code",
      "execution_count": 1,
      "metadata": {
        "colab": {
          "base_uri": "https://localhost:8080/"
        },
        "id": "tP7DFfgbamKf",
        "outputId": "c0059bb6-4b62-4a3c-aba8-bc645b99af00"
      },
      "outputs": [
        {
          "output_type": "stream",
          "name": "stdout",
          "text": [
            "Collecting opendatasets\n",
            "  Downloading opendatasets-0.1.22-py3-none-any.whl.metadata (9.2 kB)\n",
            "Requirement already satisfied: tqdm in /usr/local/lib/python3.12/dist-packages (from opendatasets) (4.67.1)\n",
            "Requirement already satisfied: kaggle in /usr/local/lib/python3.12/dist-packages (from opendatasets) (1.7.4.5)\n",
            "Requirement already satisfied: click in /usr/local/lib/python3.12/dist-packages (from opendatasets) (8.2.1)\n",
            "Requirement already satisfied: bleach in /usr/local/lib/python3.12/dist-packages (from kaggle->opendatasets) (6.2.0)\n",
            "Requirement already satisfied: certifi>=14.05.14 in /usr/local/lib/python3.12/dist-packages (from kaggle->opendatasets) (2025.8.3)\n",
            "Requirement already satisfied: charset-normalizer in /usr/local/lib/python3.12/dist-packages (from kaggle->opendatasets) (3.4.3)\n",
            "Requirement already satisfied: idna in /usr/local/lib/python3.12/dist-packages (from kaggle->opendatasets) (3.10)\n",
            "Requirement already satisfied: protobuf in /usr/local/lib/python3.12/dist-packages (from kaggle->opendatasets) (5.29.5)\n",
            "Requirement already satisfied: python-dateutil>=2.5.3 in /usr/local/lib/python3.12/dist-packages (from kaggle->opendatasets) (2.9.0.post0)\n",
            "Requirement already satisfied: python-slugify in /usr/local/lib/python3.12/dist-packages (from kaggle->opendatasets) (8.0.4)\n",
            "Requirement already satisfied: requests in /usr/local/lib/python3.12/dist-packages (from kaggle->opendatasets) (2.32.4)\n",
            "Requirement already satisfied: setuptools>=21.0.0 in /usr/local/lib/python3.12/dist-packages (from kaggle->opendatasets) (75.2.0)\n",
            "Requirement already satisfied: six>=1.10 in /usr/local/lib/python3.12/dist-packages (from kaggle->opendatasets) (1.17.0)\n",
            "Requirement already satisfied: text-unidecode in /usr/local/lib/python3.12/dist-packages (from kaggle->opendatasets) (1.3)\n",
            "Requirement already satisfied: urllib3>=1.15.1 in /usr/local/lib/python3.12/dist-packages (from kaggle->opendatasets) (2.5.0)\n",
            "Requirement already satisfied: webencodings in /usr/local/lib/python3.12/dist-packages (from kaggle->opendatasets) (0.5.1)\n",
            "Downloading opendatasets-0.1.22-py3-none-any.whl (15 kB)\n",
            "Installing collected packages: opendatasets\n",
            "Successfully installed opendatasets-0.1.22\n",
            "Please provide your Kaggle credentials to download this dataset. Learn more: http://bit.ly/kaggle-creds\n",
            "Your Kaggle username: habibahelal\n",
            "Your Kaggle Key: ··········\n",
            "Dataset URL: https://www.kaggle.com/datasets/asdasdasasdas/garbage-classification\n",
            "Downloading garbage-classification.zip to ./garbage-classification\n"
          ]
        },
        {
          "output_type": "stream",
          "name": "stderr",
          "text": [
            "100%|██████████| 82.0M/82.0M [00:00<00:00, 1.04GB/s]"
          ]
        },
        {
          "output_type": "stream",
          "name": "stdout",
          "text": [
            "\n"
          ]
        },
        {
          "output_type": "stream",
          "name": "stderr",
          "text": [
            "\n"
          ]
        }
      ],
      "source": [
        "!pip install opendatasets\n",
        "import opendatasets as od\n",
        "od.download(\"https://www.kaggle.com/datasets/asdasdasasdas/garbage-classification\")"
      ]
    },
    {
      "cell_type": "markdown",
      "source": [
        "# **Data Preprocessing & Augmentation**"
      ],
      "metadata": {
        "id": "rxornRqb5r-O"
      }
    },
    {
      "cell_type": "code",
      "source": [
        "import numpy as np\n",
        "from tqdm import tqdm\n",
        "import cv2\n",
        "import os\n",
        "import random\n",
        "\n",
        "IMG_SIZE = (224, 224)\n",
        "\n",
        "# Dynamically build class mapping\n",
        "def build_class_mapping(txt_file, base_dir):\n",
        "    mapping = {}\n",
        "    with open(txt_file, \"r\") as f:\n",
        "        lines = f.read().splitlines()\n",
        "\n",
        "    for line in lines:\n",
        "        fname, label_idx = line.strip().split()\n",
        "        label_idx = int(label_idx)\n",
        "\n",
        "        # find which folder contains this file\n",
        "        for cls in os.listdir(base_dir):\n",
        "            path = os.path.join(base_dir, cls, fname)\n",
        "            if os.path.exists(path):\n",
        "                mapping[label_idx] = cls\n",
        "                break\n",
        "    return mapping\n",
        "\n",
        "\n",
        "def load_and_preprocess(txt_file, base_dir, class_mapping):\n",
        "    data, labels = [], []\n",
        "\n",
        "    with open(txt_file, \"r\") as f:\n",
        "        lines = f.read().splitlines()\n",
        "\n",
        "    for line in tqdm(lines, desc=f\"Loading {os.path.basename(txt_file)}\"):\n",
        "        fname, label_idx = line.strip().split()\n",
        "        label_idx = int(label_idx)\n",
        "        class_name = class_mapping[label_idx]\n",
        "\n",
        "        img_path = os.path.join(base_dir, class_name, fname)\n",
        "        if not os.path.exists(img_path):\n",
        "            continue\n",
        "\n",
        "        img = cv2.imread(img_path)\n",
        "        if img is None:\n",
        "            continue\n",
        "        img = cv2.cvtColor(img, cv2.COLOR_BGR2RGB)\n",
        "        img = cv2.resize(img, IMG_SIZE)\n",
        "        img = img / 255.0\n",
        "\n",
        "        data.append(img)\n",
        "        labels.append(class_name)\n",
        "\n",
        "    return np.array(data), np.array(labels)\n",
        "\n",
        "\n"
      ],
      "metadata": {
        "id": "rciiLJCk2upO"
      },
      "execution_count": 2,
      "outputs": []
    },
    {
      "cell_type": "code",
      "source": [
        "base_dir = \"/content/garbage-classification/garbage classification/Garbage classification\"\n",
        "\n",
        "# Build mapping from TRAIN file (consistent for val & test too)\n",
        "class_mapping = build_class_mapping(\n",
        "    \"/content/garbage-classification/one-indexed-files-notrash_train.txt\",\n",
        "    base_dir\n",
        ")\n",
        "print(\"✅ Rebuilt class mapping:\", class_mapping)\n",
        "\n",
        "# Load splits\n",
        "X_train, y_train = load_and_preprocess(\n",
        "    \"/content/garbage-classification/one-indexed-files-notrash_train.txt\",\n",
        "    base_dir, class_mapping\n",
        ")\n",
        "\n",
        "X_val, y_val = load_and_preprocess(\n",
        "    \"/content/garbage-classification/one-indexed-files-notrash_val.txt\",\n",
        "    base_dir, class_mapping\n",
        ")\n",
        "\n",
        "X_test, y_test = load_and_preprocess(\n",
        "    \"/content/garbage-classification/one-indexed-files-notrash_test.txt\",\n",
        "    base_dir, class_mapping\n",
        ")\n",
        "\n",
        "print(\"\\nShapes:\")\n",
        "print(\"Train:\", X_train.shape, y_train.shape)\n",
        "print(\"Val:\", X_val.shape, y_val.shape)\n",
        "print(\"Test:\", X_test.shape, y_test.shape)\n",
        "print(\"Unique classes in train:\", np.unique(y_train))\n"
      ],
      "metadata": {
        "colab": {
          "base_uri": "https://localhost:8080/"
        },
        "id": "W1-iaNB8hchM",
        "outputId": "1c021576-5e6e-4231-b13b-ebf9140b99a1"
      },
      "execution_count": 3,
      "outputs": [
        {
          "output_type": "stream",
          "name": "stdout",
          "text": [
            "✅ Rebuilt class mapping: {3: 'cardboard', 2: 'paper', 1: 'glass', 5: 'metal', 6: 'trash', 4: 'plastic'}\n"
          ]
        },
        {
          "output_type": "stream",
          "name": "stderr",
          "text": [
            "Loading one-indexed-files-notrash_train.txt: 100%|██████████| 1768/1768 [00:06<00:00, 275.63it/s]\n",
            "Loading one-indexed-files-notrash_val.txt: 100%|██████████| 328/328 [00:01<00:00, 227.79it/s]\n",
            "Loading one-indexed-files-notrash_test.txt: 100%|██████████| 431/431 [00:01<00:00, 264.31it/s]\n"
          ]
        },
        {
          "output_type": "stream",
          "name": "stdout",
          "text": [
            "\n",
            "Shapes:\n",
            "Train: (1768, 224, 224, 3) (1768,)\n",
            "Val: (328, 224, 224, 3) (328,)\n",
            "Test: (431, 224, 224, 3) (431,)\n",
            "Unique classes in train: ['cardboard' 'glass' 'metal' 'paper' 'plastic' 'trash']\n"
          ]
        }
      ]
    },
    {
      "cell_type": "code",
      "source": [
        "from collections import Counter\n",
        "\n",
        "#augmentation function\n",
        "def augment_image(img):\n",
        "\n",
        "    # img is already normalized (0-1) ,Random horizontal flip\n",
        "    if random.random() < 0.5:\n",
        "        img = cv2.flip(img, 1)\n",
        "\n",
        "    # Random rotation (-20 to 20 degrees)\n",
        "    angle = random.uniform(-20, 20)\n",
        "    h, w = img.shape[:2]\n",
        "    M = cv2.getRotationMatrix2D((w/2, h/2), angle, 1)\n",
        "    img = cv2.warpAffine(img, M, (w, h), borderMode=cv2.BORDER_REPLICATE)\n",
        "\n",
        "    # Random width/height shift (-10% to 10%)\n",
        "    tx = random.uniform(-0.1, 0.1) * w\n",
        "    ty = random.uniform(-0.1, 0.1) * h\n",
        "    M = np.float32([[1, 0, tx], [0, 1, ty]])\n",
        "    img = cv2.warpAffine(img, M, (w, h), borderMode=cv2.BORDER_REPLICATE)\n",
        "\n",
        "    # Random shear (-10% to 10%)\n",
        "    shear = random.uniform(-0.1, 0.1)\n",
        "    M = np.array([[1, shear, 0],\n",
        "                  [0, 1, 0]], dtype=np.float32)\n",
        "    img = cv2.warpAffine(img, M, (w, h), borderMode=cv2.BORDER_REPLICATE)\n",
        "\n",
        "    # Random zoom (-10% to 10%)\n",
        "    zx = 1 + random.uniform(-0.1, 0.1)\n",
        "    zy = 1 + random.uniform(-0.1, 0.1)\n",
        "    img = cv2.resize(img, None, fx=zx, fy=zy)\n",
        "    # Crop or pad to original size\n",
        "    if img.shape[0] > h:\n",
        "        start_h = (img.shape[0]-h)//2\n",
        "        img = img[start_h:start_h+h, :]\n",
        "    else:\n",
        "        pad_h = (h - img.shape[0])//2\n",
        "        img = cv2.copyMakeBorder(img, pad_h, h-img.shape[0]-pad_h, 0, 0, cv2.BORDER_REPLICATE)\n",
        "    if img.shape[1] > w:\n",
        "        start_w = (img.shape[1]-w)//2\n",
        "        img = img[:, start_w:start_w+w]\n",
        "    else:\n",
        "        pad_w = (w - img.shape[1])//2\n",
        "        img = cv2.copyMakeBorder(img, 0, 0, pad_w, w-img.shape[1]-pad_w, cv2.BORDER_REPLICATE)\n",
        "\n",
        "    # Random brightness (0.8x - 1.2x)\n",
        "    img = np.clip(img * random.uniform(0.8, 1.2), 0, 1)\n",
        "\n",
        "    return img"
      ],
      "metadata": {
        "id": "E_E3hT-Jh32w"
      },
      "execution_count": 4,
      "outputs": []
    },
    {
      "cell_type": "code",
      "source": [
        "#Augment entire training dataset\n",
        "X_train_aug = []\n",
        "y_train_aug = []\n",
        "\n",
        "for i in range(len(X_train)):\n",
        "    X_train_aug.append(X_train[i])               # original\n",
        "    y_train_aug.append(y_train[i])\n",
        "    X_train_aug.append(augment_image(X_train[i])) # augmented\n",
        "    y_train_aug.append(y_train[i])\n",
        "\n",
        "X_train_aug = np.array(X_train_aug)\n",
        "y_train_aug = np.array(y_train_aug)\n",
        "\n",
        "print(\"Original train size:\", len(X_train))\n",
        "print(\"Augmented train size:\", len(X_train_aug))"
      ],
      "metadata": {
        "colab": {
          "base_uri": "https://localhost:8080/"
        },
        "id": "aZsynFY7h8Mu",
        "outputId": "c07a135f-28e2-4d7f-8492-e8852b8b00e0"
      },
      "execution_count": 5,
      "outputs": [
        {
          "output_type": "stream",
          "name": "stdout",
          "text": [
            "Original train size: 1768\n",
            "Augmented train size: 3536\n"
          ]
        }
      ]
    },
    {
      "cell_type": "markdown",
      "source": [
        "# **Deep Learning & Transfer Learning for Waste Classification**"
      ],
      "metadata": {
        "id": "DeCkAkR-Jrlo"
      }
    },
    {
      "cell_type": "markdown",
      "source": [
        "# **1. Baseline CNN**\n",
        "\n",
        "* Build a simple custom CNN (Conv → Pool → Dense).\n",
        "\n",
        "* Train on preprocessed + augmented dataset.\n",
        "\n",
        "* Visualize training/validation accuracy & loss.\n",
        "\n",
        "* Plot confusion matrix & classification report.\n",
        "\n",
        "* Save model & architecture summary."
      ],
      "metadata": {
        "id": "n5aw5QzMJtrn"
      }
    },
    {
      "cell_type": "code",
      "source": [
        "# Core\n",
        "import numpy as np\n",
        "import matplotlib.pyplot as plt\n",
        "\n",
        "# TensorFlow / Keras\n",
        "import tensorflow as tf\n",
        "from tensorflow.keras.models import Sequential\n",
        "from tensorflow.keras.layers import Conv2D, MaxPooling2D, Flatten, Dense, Dropout\n",
        "from tensorflow.keras.optimizers import Adam\n",
        "from tensorflow.keras.callbacks import EarlyStopping\n",
        "from tensorflow.keras.preprocessing.image import ImageDataGenerator\n",
        "\n",
        "# Metrics & Evaluation\n",
        "from sklearn.metrics import classification_report, confusion_matrix, ConfusionMatrixDisplay\n"
      ],
      "metadata": {
        "id": "orbht8zBKWi9"
      },
      "execution_count": 6,
      "outputs": []
    },
    {
      "cell_type": "code",
      "source": [
        "from sklearn.preprocessing import LabelEncoder\n",
        "from tensorflow.keras.utils import to_categorical\n",
        "\n",
        "# Encode labels as integers\n",
        "le = LabelEncoder()\n",
        "y_train_enc = le.fit_transform(y_train_aug)\n",
        "y_val_enc = le.transform(y_val)\n",
        "y_test_enc = le.transform(y_test)\n",
        "\n",
        "# Convert to one-hot\n",
        "y_train_cat = to_categorical(y_train_enc, num_classes=6)\n",
        "y_val_cat = to_categorical(y_val_enc, num_classes=6)\n",
        "y_test_cat = to_categorical(y_test_enc, num_classes=6)\n"
      ],
      "metadata": {
        "id": "jM11JMbMy2CG"
      },
      "execution_count": 7,
      "outputs": []
    },
    {
      "cell_type": "markdown",
      "source": [
        "The model is a sequential CNN consisting of 10 layers. The initial layers are convolutional layers used to extract features from the input images. After the first two convolutional layers, max pooling layers are added to reduce the spatial dimensions and the number of parameters. The output from the convolutional layers, which contains the extracted image features, is flattened into a feature vector. This feature vector is then passed through two dense layers followed by a dropout layer to prevent overfitting. Finally, a dense layer with a softmax activation function outputs the predicted class among the six waste categories: plastic, glass, paper, metal, organic, and cardboard."
      ],
      "metadata": {
        "id": "n1k2PGxXx7nz"
      }
    },
    {
      "cell_type": "code",
      "source": [
        "# Build model for garbage dataset\n",
        "def build_model():\n",
        "    model = Sequential()\n",
        "    model.add(Conv2D(32, (3,3), strides=(1,1), activation='relu', input_shape=(224,224,3)))\n",
        "    model.add(MaxPooling2D((2,2)))\n",
        "    model.add(Conv2D(64, (3,3), strides=(1,1), activation='relu'))\n",
        "    model.add(MaxPooling2D((2,2)))\n",
        "    model.add(Conv2D(64, (3,3), activation='relu'))\n",
        "    model.add(Flatten())\n",
        "    model.add(Dense(512, activation='relu'))\n",
        "    model.add(Dense(256, activation='relu'))\n",
        "    model.add(Dropout(0.5))\n",
        "    model.add(Dense(6, activation='softmax'))  # 6 classes for garbage\n",
        "    return model"
      ],
      "metadata": {
        "id": "18WP9h9Hxefr"
      },
      "execution_count": 8,
      "outputs": []
    },
    {
      "cell_type": "code",
      "source": [
        "model = build_model()"
      ],
      "metadata": {
        "colab": {
          "base_uri": "https://localhost:8080/"
        },
        "id": "TnJ6RDkbyByT",
        "outputId": "ff8f1e72-a3a4-4361-84b2-9b9f55ae96b8"
      },
      "execution_count": 9,
      "outputs": [
        {
          "output_type": "stream",
          "name": "stderr",
          "text": [
            "/usr/local/lib/python3.12/dist-packages/keras/src/layers/convolutional/base_conv.py:113: UserWarning: Do not pass an `input_shape`/`input_dim` argument to a layer. When using Sequential models, prefer using an `Input(shape)` object as the first layer in the model instead.\n",
            "  super().__init__(activity_regularizer=activity_regularizer, **kwargs)\n"
          ]
        }
      ]
    },
    {
      "cell_type": "code",
      "source": [
        "model.summary()"
      ],
      "metadata": {
        "colab": {
          "base_uri": "https://localhost:8080/",
          "height": 449
        },
        "id": "5AkPdTntyD8z",
        "outputId": "875083ff-986d-48c1-e4b7-e243cae7175a"
      },
      "execution_count": 10,
      "outputs": [
        {
          "output_type": "display_data",
          "data": {
            "text/plain": [
              "\u001b[1mModel: \"sequential\"\u001b[0m\n"
            ],
            "text/html": [
              "<pre style=\"white-space:pre;overflow-x:auto;line-height:normal;font-family:Menlo,'DejaVu Sans Mono',consolas,'Courier New',monospace\"><span style=\"font-weight: bold\">Model: \"sequential\"</span>\n",
              "</pre>\n"
            ]
          },
          "metadata": {}
        },
        {
          "output_type": "display_data",
          "data": {
            "text/plain": [
              "┏━━━━━━━━━━━━━━━━━━━━━━━━━━━━━━━━━┳━━━━━━━━━━━━━━━━━━━━━━━━┳━━━━━━━━━━━━━━━┓\n",
              "┃\u001b[1m \u001b[0m\u001b[1mLayer (type)                   \u001b[0m\u001b[1m \u001b[0m┃\u001b[1m \u001b[0m\u001b[1mOutput Shape          \u001b[0m\u001b[1m \u001b[0m┃\u001b[1m \u001b[0m\u001b[1m      Param #\u001b[0m\u001b[1m \u001b[0m┃\n",
              "┡━━━━━━━━━━━━━━━━━━━━━━━━━━━━━━━━━╇━━━━━━━━━━━━━━━━━━━━━━━━╇━━━━━━━━━━━━━━━┩\n",
              "│ conv2d (\u001b[38;5;33mConv2D\u001b[0m)                 │ (\u001b[38;5;45mNone\u001b[0m, \u001b[38;5;34m222\u001b[0m, \u001b[38;5;34m222\u001b[0m, \u001b[38;5;34m32\u001b[0m)   │           \u001b[38;5;34m896\u001b[0m │\n",
              "├─────────────────────────────────┼────────────────────────┼───────────────┤\n",
              "│ max_pooling2d (\u001b[38;5;33mMaxPooling2D\u001b[0m)    │ (\u001b[38;5;45mNone\u001b[0m, \u001b[38;5;34m111\u001b[0m, \u001b[38;5;34m111\u001b[0m, \u001b[38;5;34m32\u001b[0m)   │             \u001b[38;5;34m0\u001b[0m │\n",
              "├─────────────────────────────────┼────────────────────────┼───────────────┤\n",
              "│ conv2d_1 (\u001b[38;5;33mConv2D\u001b[0m)               │ (\u001b[38;5;45mNone\u001b[0m, \u001b[38;5;34m109\u001b[0m, \u001b[38;5;34m109\u001b[0m, \u001b[38;5;34m64\u001b[0m)   │        \u001b[38;5;34m18,496\u001b[0m │\n",
              "├─────────────────────────────────┼────────────────────────┼───────────────┤\n",
              "│ max_pooling2d_1 (\u001b[38;5;33mMaxPooling2D\u001b[0m)  │ (\u001b[38;5;45mNone\u001b[0m, \u001b[38;5;34m54\u001b[0m, \u001b[38;5;34m54\u001b[0m, \u001b[38;5;34m64\u001b[0m)     │             \u001b[38;5;34m0\u001b[0m │\n",
              "├─────────────────────────────────┼────────────────────────┼───────────────┤\n",
              "│ conv2d_2 (\u001b[38;5;33mConv2D\u001b[0m)               │ (\u001b[38;5;45mNone\u001b[0m, \u001b[38;5;34m52\u001b[0m, \u001b[38;5;34m52\u001b[0m, \u001b[38;5;34m64\u001b[0m)     │        \u001b[38;5;34m36,928\u001b[0m │\n",
              "├─────────────────────────────────┼────────────────────────┼───────────────┤\n",
              "│ flatten (\u001b[38;5;33mFlatten\u001b[0m)               │ (\u001b[38;5;45mNone\u001b[0m, \u001b[38;5;34m173056\u001b[0m)         │             \u001b[38;5;34m0\u001b[0m │\n",
              "├─────────────────────────────────┼────────────────────────┼───────────────┤\n",
              "│ dense (\u001b[38;5;33mDense\u001b[0m)                   │ (\u001b[38;5;45mNone\u001b[0m, \u001b[38;5;34m512\u001b[0m)            │    \u001b[38;5;34m88,605,184\u001b[0m │\n",
              "├─────────────────────────────────┼────────────────────────┼───────────────┤\n",
              "│ dense_1 (\u001b[38;5;33mDense\u001b[0m)                 │ (\u001b[38;5;45mNone\u001b[0m, \u001b[38;5;34m256\u001b[0m)            │       \u001b[38;5;34m131,328\u001b[0m │\n",
              "├─────────────────────────────────┼────────────────────────┼───────────────┤\n",
              "│ dropout (\u001b[38;5;33mDropout\u001b[0m)               │ (\u001b[38;5;45mNone\u001b[0m, \u001b[38;5;34m256\u001b[0m)            │             \u001b[38;5;34m0\u001b[0m │\n",
              "├─────────────────────────────────┼────────────────────────┼───────────────┤\n",
              "│ dense_2 (\u001b[38;5;33mDense\u001b[0m)                 │ (\u001b[38;5;45mNone\u001b[0m, \u001b[38;5;34m6\u001b[0m)              │         \u001b[38;5;34m1,542\u001b[0m │\n",
              "└─────────────────────────────────┴────────────────────────┴───────────────┘\n"
            ],
            "text/html": [
              "<pre style=\"white-space:pre;overflow-x:auto;line-height:normal;font-family:Menlo,'DejaVu Sans Mono',consolas,'Courier New',monospace\">┏━━━━━━━━━━━━━━━━━━━━━━━━━━━━━━━━━┳━━━━━━━━━━━━━━━━━━━━━━━━┳━━━━━━━━━━━━━━━┓\n",
              "┃<span style=\"font-weight: bold\"> Layer (type)                    </span>┃<span style=\"font-weight: bold\"> Output Shape           </span>┃<span style=\"font-weight: bold\">       Param # </span>┃\n",
              "┡━━━━━━━━━━━━━━━━━━━━━━━━━━━━━━━━━╇━━━━━━━━━━━━━━━━━━━━━━━━╇━━━━━━━━━━━━━━━┩\n",
              "│ conv2d (<span style=\"color: #0087ff; text-decoration-color: #0087ff\">Conv2D</span>)                 │ (<span style=\"color: #00d7ff; text-decoration-color: #00d7ff\">None</span>, <span style=\"color: #00af00; text-decoration-color: #00af00\">222</span>, <span style=\"color: #00af00; text-decoration-color: #00af00\">222</span>, <span style=\"color: #00af00; text-decoration-color: #00af00\">32</span>)   │           <span style=\"color: #00af00; text-decoration-color: #00af00\">896</span> │\n",
              "├─────────────────────────────────┼────────────────────────┼───────────────┤\n",
              "│ max_pooling2d (<span style=\"color: #0087ff; text-decoration-color: #0087ff\">MaxPooling2D</span>)    │ (<span style=\"color: #00d7ff; text-decoration-color: #00d7ff\">None</span>, <span style=\"color: #00af00; text-decoration-color: #00af00\">111</span>, <span style=\"color: #00af00; text-decoration-color: #00af00\">111</span>, <span style=\"color: #00af00; text-decoration-color: #00af00\">32</span>)   │             <span style=\"color: #00af00; text-decoration-color: #00af00\">0</span> │\n",
              "├─────────────────────────────────┼────────────────────────┼───────────────┤\n",
              "│ conv2d_1 (<span style=\"color: #0087ff; text-decoration-color: #0087ff\">Conv2D</span>)               │ (<span style=\"color: #00d7ff; text-decoration-color: #00d7ff\">None</span>, <span style=\"color: #00af00; text-decoration-color: #00af00\">109</span>, <span style=\"color: #00af00; text-decoration-color: #00af00\">109</span>, <span style=\"color: #00af00; text-decoration-color: #00af00\">64</span>)   │        <span style=\"color: #00af00; text-decoration-color: #00af00\">18,496</span> │\n",
              "├─────────────────────────────────┼────────────────────────┼───────────────┤\n",
              "│ max_pooling2d_1 (<span style=\"color: #0087ff; text-decoration-color: #0087ff\">MaxPooling2D</span>)  │ (<span style=\"color: #00d7ff; text-decoration-color: #00d7ff\">None</span>, <span style=\"color: #00af00; text-decoration-color: #00af00\">54</span>, <span style=\"color: #00af00; text-decoration-color: #00af00\">54</span>, <span style=\"color: #00af00; text-decoration-color: #00af00\">64</span>)     │             <span style=\"color: #00af00; text-decoration-color: #00af00\">0</span> │\n",
              "├─────────────────────────────────┼────────────────────────┼───────────────┤\n",
              "│ conv2d_2 (<span style=\"color: #0087ff; text-decoration-color: #0087ff\">Conv2D</span>)               │ (<span style=\"color: #00d7ff; text-decoration-color: #00d7ff\">None</span>, <span style=\"color: #00af00; text-decoration-color: #00af00\">52</span>, <span style=\"color: #00af00; text-decoration-color: #00af00\">52</span>, <span style=\"color: #00af00; text-decoration-color: #00af00\">64</span>)     │        <span style=\"color: #00af00; text-decoration-color: #00af00\">36,928</span> │\n",
              "├─────────────────────────────────┼────────────────────────┼───────────────┤\n",
              "│ flatten (<span style=\"color: #0087ff; text-decoration-color: #0087ff\">Flatten</span>)               │ (<span style=\"color: #00d7ff; text-decoration-color: #00d7ff\">None</span>, <span style=\"color: #00af00; text-decoration-color: #00af00\">173056</span>)         │             <span style=\"color: #00af00; text-decoration-color: #00af00\">0</span> │\n",
              "├─────────────────────────────────┼────────────────────────┼───────────────┤\n",
              "│ dense (<span style=\"color: #0087ff; text-decoration-color: #0087ff\">Dense</span>)                   │ (<span style=\"color: #00d7ff; text-decoration-color: #00d7ff\">None</span>, <span style=\"color: #00af00; text-decoration-color: #00af00\">512</span>)            │    <span style=\"color: #00af00; text-decoration-color: #00af00\">88,605,184</span> │\n",
              "├─────────────────────────────────┼────────────────────────┼───────────────┤\n",
              "│ dense_1 (<span style=\"color: #0087ff; text-decoration-color: #0087ff\">Dense</span>)                 │ (<span style=\"color: #00d7ff; text-decoration-color: #00d7ff\">None</span>, <span style=\"color: #00af00; text-decoration-color: #00af00\">256</span>)            │       <span style=\"color: #00af00; text-decoration-color: #00af00\">131,328</span> │\n",
              "├─────────────────────────────────┼────────────────────────┼───────────────┤\n",
              "│ dropout (<span style=\"color: #0087ff; text-decoration-color: #0087ff\">Dropout</span>)               │ (<span style=\"color: #00d7ff; text-decoration-color: #00d7ff\">None</span>, <span style=\"color: #00af00; text-decoration-color: #00af00\">256</span>)            │             <span style=\"color: #00af00; text-decoration-color: #00af00\">0</span> │\n",
              "├─────────────────────────────────┼────────────────────────┼───────────────┤\n",
              "│ dense_2 (<span style=\"color: #0087ff; text-decoration-color: #0087ff\">Dense</span>)                 │ (<span style=\"color: #00d7ff; text-decoration-color: #00d7ff\">None</span>, <span style=\"color: #00af00; text-decoration-color: #00af00\">6</span>)              │         <span style=\"color: #00af00; text-decoration-color: #00af00\">1,542</span> │\n",
              "└─────────────────────────────────┴────────────────────────┴───────────────┘\n",
              "</pre>\n"
            ]
          },
          "metadata": {}
        },
        {
          "output_type": "display_data",
          "data": {
            "text/plain": [
              "\u001b[1m Total params: \u001b[0m\u001b[38;5;34m88,794,374\u001b[0m (338.72 MB)\n"
            ],
            "text/html": [
              "<pre style=\"white-space:pre;overflow-x:auto;line-height:normal;font-family:Menlo,'DejaVu Sans Mono',consolas,'Courier New',monospace\"><span style=\"font-weight: bold\"> Total params: </span><span style=\"color: #00af00; text-decoration-color: #00af00\">88,794,374</span> (338.72 MB)\n",
              "</pre>\n"
            ]
          },
          "metadata": {}
        },
        {
          "output_type": "display_data",
          "data": {
            "text/plain": [
              "\u001b[1m Trainable params: \u001b[0m\u001b[38;5;34m88,794,374\u001b[0m (338.72 MB)\n"
            ],
            "text/html": [
              "<pre style=\"white-space:pre;overflow-x:auto;line-height:normal;font-family:Menlo,'DejaVu Sans Mono',consolas,'Courier New',monospace\"><span style=\"font-weight: bold\"> Trainable params: </span><span style=\"color: #00af00; text-decoration-color: #00af00\">88,794,374</span> (338.72 MB)\n",
              "</pre>\n"
            ]
          },
          "metadata": {}
        },
        {
          "output_type": "display_data",
          "data": {
            "text/plain": [
              "\u001b[1m Non-trainable params: \u001b[0m\u001b[38;5;34m0\u001b[0m (0.00 B)\n"
            ],
            "text/html": [
              "<pre style=\"white-space:pre;overflow-x:auto;line-height:normal;font-family:Menlo,'DejaVu Sans Mono',consolas,'Courier New',monospace\"><span style=\"font-weight: bold\"> Non-trainable params: </span><span style=\"color: #00af00; text-decoration-color: #00af00\">0</span> (0.00 B)\n",
              "</pre>\n"
            ]
          },
          "metadata": {}
        }
      ]
    },
    {
      "cell_type": "code",
      "source": [
        "# Compile model\n",
        "model.compile(Adam(learning_rate=1e-4), loss='categorical_crossentropy', metrics=['accuracy'])\n"
      ],
      "metadata": {
        "id": "T8VkQn1ryHQ9"
      },
      "execution_count": 11,
      "outputs": []
    },
    {
      "cell_type": "code",
      "source": [
        "print(\"X_train_aug:\", X_train_aug.shape, X_train_aug.dtype)\n",
        "print(\"y_train_cat:\", y_train_cat.shape, y_train_cat.dtype)\n",
        "print(\"X_val:\", X_val.shape, X_val.dtype)\n",
        "print(\"y_val_cat:\", y_val_cat.shape, y_val_cat.dtype)\n"
      ],
      "metadata": {
        "colab": {
          "base_uri": "https://localhost:8080/"
        },
        "id": "OnwEUJDbyOHt",
        "outputId": "523a3671-2f9d-437f-c64b-a9c3f30c2c18"
      },
      "execution_count": 12,
      "outputs": [
        {
          "output_type": "stream",
          "name": "stdout",
          "text": [
            "X_train_aug: (3536, 224, 224, 3) float64\n",
            "y_train_cat: (3536, 6) float64\n",
            "X_val: (328, 224, 224, 3) float64\n",
            "y_val_cat: (328, 6) float64\n"
          ]
        }
      ]
    },
    {
      "cell_type": "code",
      "source": [
        "X_train_aug = X_train_aug.astype(\"float32\")\n",
        "y_train_cat = y_train_cat.astype(\"float32\")\n",
        "X_val = X_val.astype(\"float32\")\n",
        "y_val_cat = y_val_cat.astype(\"float32\")\n"
      ],
      "metadata": {
        "id": "zdJlRwqa2SE9"
      },
      "execution_count": 13,
      "outputs": []
    },
    {
      "cell_type": "code",
      "source": [
        "# Early stopping\n",
        "early_stopping = EarlyStopping(\n",
        "    monitor='val_loss',\n",
        "    patience=3,\n",
        "    restore_best_weights=True\n",
        ")"
      ],
      "metadata": {
        "id": "eDT-hufg_URd"
      },
      "execution_count": 14,
      "outputs": []
    },
    {
      "cell_type": "code",
      "source": [
        "history = model.fit(\n",
        "    X_train_aug, y_train_cat,\n",
        "    validation_data=(X_val, y_val_cat),\n",
        "    epochs=50,\n",
        "    batch_size=32,\n",
        "    callbacks=[early_stopping]\n",
        ")\n"
      ],
      "metadata": {
        "colab": {
          "base_uri": "https://localhost:8080/"
        },
        "id": "z3iZaOGsyQ7G",
        "outputId": "186f3d12-44a0-4431-a608-5b432e727667"
      },
      "execution_count": 15,
      "outputs": [
        {
          "output_type": "stream",
          "name": "stdout",
          "text": [
            "Epoch 1/50\n",
            "\u001b[1m111/111\u001b[0m \u001b[32m━━━━━━━━━━━━━━━━━━━━\u001b[0m\u001b[37m\u001b[0m \u001b[1m24s\u001b[0m 141ms/step - accuracy: 0.2427 - loss: 1.8355 - val_accuracy: 0.4268 - val_loss: 1.4715\n",
            "Epoch 2/50\n",
            "\u001b[1m111/111\u001b[0m \u001b[32m━━━━━━━━━━━━━━━━━━━━\u001b[0m\u001b[37m\u001b[0m \u001b[1m27s\u001b[0m 73ms/step - accuracy: 0.4297 - loss: 1.4220 - val_accuracy: 0.5335 - val_loss: 1.3043\n",
            "Epoch 3/50\n",
            "\u001b[1m111/111\u001b[0m \u001b[32m━━━━━━━━━━━━━━━━━━━━\u001b[0m\u001b[37m\u001b[0m \u001b[1m8s\u001b[0m 75ms/step - accuracy: 0.5136 - loss: 1.2281 - val_accuracy: 0.5640 - val_loss: 1.2449\n",
            "Epoch 4/50\n",
            "\u001b[1m111/111\u001b[0m \u001b[32m━━━━━━━━━━━━━━━━━━━━\u001b[0m\u001b[37m\u001b[0m \u001b[1m8s\u001b[0m 70ms/step - accuracy: 0.5682 - loss: 1.1283 - val_accuracy: 0.6067 - val_loss: 1.1154\n",
            "Epoch 5/50\n",
            "\u001b[1m111/111\u001b[0m \u001b[32m━━━━━━━━━━━━━━━━━━━━\u001b[0m\u001b[37m\u001b[0m \u001b[1m8s\u001b[0m 73ms/step - accuracy: 0.6475 - loss: 0.9538 - val_accuracy: 0.6128 - val_loss: 1.0734\n",
            "Epoch 6/50\n",
            "\u001b[1m111/111\u001b[0m \u001b[32m━━━━━━━━━━━━━━━━━━━━\u001b[0m\u001b[37m\u001b[0m \u001b[1m7s\u001b[0m 66ms/step - accuracy: 0.6839 - loss: 0.8395 - val_accuracy: 0.6341 - val_loss: 1.1230\n",
            "Epoch 7/50\n",
            "\u001b[1m111/111\u001b[0m \u001b[32m━━━━━━━━━━━━━━━━━━━━\u001b[0m\u001b[37m\u001b[0m \u001b[1m8s\u001b[0m 71ms/step - accuracy: 0.7317 - loss: 0.7344 - val_accuracy: 0.6311 - val_loss: 1.0215\n",
            "Epoch 8/50\n",
            "\u001b[1m111/111\u001b[0m \u001b[32m━━━━━━━━━━━━━━━━━━━━\u001b[0m\u001b[37m\u001b[0m \u001b[1m7s\u001b[0m 67ms/step - accuracy: 0.7952 - loss: 0.5802 - val_accuracy: 0.6098 - val_loss: 1.1070\n",
            "Epoch 9/50\n",
            "\u001b[1m111/111\u001b[0m \u001b[32m━━━━━━━━━━━━━━━━━━━━\u001b[0m\u001b[37m\u001b[0m \u001b[1m7s\u001b[0m 66ms/step - accuracy: 0.8262 - loss: 0.5207 - val_accuracy: 0.6159 - val_loss: 1.1133\n",
            "Epoch 10/50\n",
            "\u001b[1m111/111\u001b[0m \u001b[32m━━━━━━━━━━━━━━━━━━━━\u001b[0m\u001b[37m\u001b[0m \u001b[1m7s\u001b[0m 67ms/step - accuracy: 0.8562 - loss: 0.4302 - val_accuracy: 0.6037 - val_loss: 1.2164\n"
          ]
        }
      ]
    },
    {
      "cell_type": "code",
      "source": [
        "loss = history.history['loss']\n",
        "val_loss = history.history['val_loss']\n",
        "\n",
        "plt.plot(loss, label='Training loss')\n",
        "plt.plot(val_loss, label='Validation loss')\n",
        "plt.xlabel('Epoch')\n",
        "plt.ylabel('Loss')\n",
        "plt.title('Training vs Validation Loss')\n",
        "plt.legend()\n",
        "plt.grid(True)\n",
        "plt.show()\n"
      ],
      "metadata": {
        "colab": {
          "base_uri": "https://localhost:8080/",
          "height": 472
        },
        "id": "ECwZB48Xyc-q",
        "outputId": "0dd69f2c-16f7-47bc-9fbd-8721f815a0e4"
      },
      "execution_count": 16,
      "outputs": [
        {
          "output_type": "display_data",
          "data": {
            "text/plain": [
              "<Figure size 640x480 with 1 Axes>"
            ],
            "image/png": "[encoded data removed]"
          },
          "metadata": {}
        }
      ]
    },
    {
      "cell_type": "code",
      "source": [
        "accuracy = history.history['accuracy']\n",
        "val_accuracy = history.history['val_accuracy']\n",
        "\n",
        "plt.plot(accuracy, label='Training Accuracy')\n",
        "plt.plot(val_accuracy, label='Validation Accuracy')\n",
        "plt.xlabel('Epoch')\n",
        "plt.ylabel('Accuracy')\n",
        "plt.title('Training vs Validation Accuracy')\n",
        "plt.legend()\n",
        "plt.grid(True)\n",
        "plt.show()\n"
      ],
      "metadata": {
        "colab": {
          "base_uri": "https://localhost:8080/",
          "height": 472
        },
        "id": "0ilFM_6N3URb",
        "outputId": "708cf294-bba7-4f2b-dca5-10aec8158129"
      },
      "execution_count": 17,
      "outputs": [
        {
          "output_type": "display_data",
          "data": {
            "text/plain": [
              "<Figure size 640x480 with 1 Axes>"
            ],
            "image/png": "[encoded data removed]"
          },
          "metadata": {}
        }
      ]
    },
    {
      "cell_type": "code",
      "source": [
        "# Make sure x_test is normalized like training data\n",
        "X_test = X_test.astype(\"float32\") / 255.0\n",
        "\n",
        "# Predict class probabilities\n",
        "predictions = model.predict(X_test, batch_size=32)\n",
        "\n",
        "# Convert probabilities -> class indices\n",
        "predictions = np.argmax(predictions, axis=1)\n"
      ],
      "metadata": {
        "colab": {
          "base_uri": "https://localhost:8080/"
        },
        "id": "pedigI596cLA",
        "outputId": "34f614a0-b06f-426b-816b-32125647a2d2"
      },
      "execution_count": 18,
      "outputs": [
        {
          "output_type": "stream",
          "name": "stdout",
          "text": [
            "\u001b[1m14/14\u001b[0m \u001b[32m━━━━━━━━━━━━━━━━━━━━\u001b[0m\u001b[37m\u001b[0m \u001b[1m2s\u001b[0m 103ms/step\n"
          ]
        }
      ]
    },
    {
      "cell_type": "code",
      "source": [
        "y_test = np.argmax(y_test_cat, axis=1)  # one-hot -> class indices\n"
      ],
      "metadata": {
        "id": "xNpkwwYE6n0l"
      },
      "execution_count": 19,
      "outputs": []
    },
    {
      "cell_type": "code",
      "source": [
        "loss, accuracy = model.evaluate(X_test, y_test_cat, verbose=0)\n",
        "print(f\"Test loss: {loss:.4f}\")\n",
        "print(f\"Test Accuracy: {accuracy:.4f}\")\n"
      ],
      "metadata": {
        "colab": {
          "base_uri": "https://localhost:8080/"
        },
        "id": "B3BIBgTd6rYb",
        "outputId": "9b34caec-3035-4506-a344-e5e0a81977ca"
      },
      "execution_count": 20,
      "outputs": [
        {
          "output_type": "stream",
          "name": "stdout",
          "text": [
            "Test loss: 6.7055\n",
            "Test Accuracy: 0.1903\n"
          ]
        }
      ]
    },
    {
      "cell_type": "code",
      "source": [
        "model.save(\"garbage_cnn_model.h5\")\n",
        "print(\"Model saved as garbage_cnn_model.h5\")\n"
      ],
      "metadata": {
        "colab": {
          "base_uri": "https://localhost:8080/"
        },
        "id": "YwAvKZvD6AWc",
        "outputId": "7546bee4-5b1c-432b-cc01-6080df1acb1e"
      },
      "execution_count": 21,
      "outputs": [
        {
          "output_type": "stream",
          "name": "stderr",
          "text": [
            "WARNING:absl:You are saving your model as an HDF5 file via `model.save()` or `keras.saving.save_model(model)`. This file format is considered legacy. We recommend using instead the native Keras format, e.g. `model.save('my_model.keras')` or `keras.saving.save_model(model, 'my_model.keras')`. \n"
          ]
        },
        {
          "output_type": "stream",
          "name": "stdout",
          "text": [
            "Model saved as garbage_cnn_model.h5\n"
          ]
        }
      ]
    },
    {
      "cell_type": "code",
      "source": [
        "label_to_letter = {\n",
        "    0: \"cardboard\",\n",
        "    1: \"glass\",\n",
        "    2: \"metal\",\n",
        "    3: \"paper\",\n",
        "    4: \"plastic\",\n",
        "    5: \"trash\"\n",
        "}\n"
      ],
      "metadata": {
        "id": "wc40lmSZ7El_"
      },
      "execution_count": 22,
      "outputs": []
    },
    {
      "cell_type": "code",
      "source": [
        "from sklearn.metrics import classification_report, confusion_matrix, ConfusionMatrixDisplay\n",
        "\n",
        "print(classification_report(y_test, predictions, target_names=list(label_to_letter.values())))\n"
      ],
      "metadata": {
        "colab": {
          "base_uri": "https://localhost:8080/"
        },
        "id": "eooGbsUN6BAx",
        "outputId": "64e5e446-d0b7-492d-89fb-38f060151ff3"
      },
      "execution_count": 23,
      "outputs": [
        {
          "output_type": "stream",
          "name": "stdout",
          "text": [
            "              precision    recall  f1-score   support\n",
            "\n",
            "   cardboard       0.00      0.00      0.00        70\n",
            "       glass       0.19      1.00      0.32        82\n",
            "       metal       0.00      0.00      0.00        68\n",
            "       paper       0.00      0.00      0.00       108\n",
            "     plastic       0.00      0.00      0.00        74\n",
            "       trash       0.00      0.00      0.00        29\n",
            "\n",
            "    accuracy                           0.19       431\n",
            "   macro avg       0.03      0.17      0.05       431\n",
            "weighted avg       0.04      0.19      0.06       431\n",
            "\n"
          ]
        },
        {
          "output_type": "stream",
          "name": "stderr",
          "text": [
            "/usr/local/lib/python3.12/dist-packages/sklearn/metrics/_classification.py:1565: UndefinedMetricWarning: Precision is ill-defined and being set to 0.0 in labels with no predicted samples. Use `zero_division` parameter to control this behavior.\n",
            "  _warn_prf(average, modifier, f\"{metric.capitalize()} is\", len(result))\n",
            "/usr/local/lib/python3.12/dist-packages/sklearn/metrics/_classification.py:1565: UndefinedMetricWarning: Precision is ill-defined and being set to 0.0 in labels with no predicted samples. Use `zero_division` parameter to control this behavior.\n",
            "  _warn_prf(average, modifier, f\"{metric.capitalize()} is\", len(result))\n",
            "/usr/local/lib/python3.12/dist-packages/sklearn/metrics/_classification.py:1565: UndefinedMetricWarning: Precision is ill-defined and being set to 0.0 in labels with no predicted samples. Use `zero_division` parameter to control this behavior.\n",
            "  _warn_prf(average, modifier, f\"{metric.capitalize()} is\", len(result))\n"
          ]
        }
      ]
    },
    {
      "cell_type": "code",
      "source": [
        "cm = confusion_matrix(y_test, predictions)\n",
        "ConfusionMatrixDisplay(confusion_matrix=cm, display_labels=list(label_to_letter.values())).plot(\n",
        "    cmap=\"Blues\", xticks_rotation=45\n",
        ")\n",
        "plt.show()\n"
      ],
      "metadata": {
        "colab": {
          "base_uri": "https://localhost:8080/",
          "height": 495
        },
        "id": "5bIaVl5j6G0j",
        "outputId": "6545323f-e93e-4b78-d0aa-992eb613277c"
      },
      "execution_count": 24,
      "outputs": [
        {
          "output_type": "display_data",
          "data": {
            "text/plain": [
              "<Figure size 640x480 with 2 Axes>"
            ],
            "image/png": "[encoded data removed]"
          },
          "metadata": {}
        }
      ]
    },
    {
      "cell_type": "markdown",
      "source": [
        "**Results Interpretation**\n",
        "\n",
        "Overall Accuracy = 0.19 (19%) → the model is barely better than random guessing (for 6 classes, random baseline ≈ 16%).\n",
        "\n",
        "Glass:\n",
        "\n",
        "Recall = 1.0 → the model predicts everything as glass.\n",
        "\n",
        "Precision = 0.19 → only ~19% of predictions were actually glass.\n",
        "\n",
        "All other classes: Precision, recall, f1-score = 0.0 → the model failed to learn them."
      ],
      "metadata": {
        "id": "keUJW_uLBeJi"
      }
    },
    {
      "cell_type": "markdown",
      "source": [
        "**Why this happened**\n",
        "\n",
        "Class imbalance: your class weights hint that some classes (like trash) are underrepresented. The model may have collapsed into predicting the majority / easiest class.\n",
        "\n",
        "CNN from scratch: with a small dataset (~3.5k training images), training a CNN from zero usually overfits or fails to generalize.\n",
        "\n",
        "Insufficient training time / architecture: The CNN may not be deep enough to capture discriminative features for waste classification.\n",
        "\n",
        "Image similarity: classes like cardboard/paper/plastic are visually close, making it harder without pretrained features."
      ],
      "metadata": {
        "id": "1IP9USf9BgW6"
      }
    },
    {
      "cell_type": "markdown",
      "source": [
        "**This is exactly why transfer learning is recommended:**\n",
        "\n",
        "Pretrained models (VGG16, ResNet, EfficientNet) already learned robust visual features (edges, textures, shapes).\n",
        "\n",
        "You only train the final dense layers → much higher accuracy on small datasets."
      ],
      "metadata": {
        "id": "CtZLFaM6Bl1s"
      }
    },
    {
      "cell_type": "markdown",
      "source": [
        "CNN is essentially collapsing to always predicting “glass” → hence the misleadingly high recall for that class and near-zero performance elsewhere.\n",
        "\n",
        "**This makes a perfect justification to switch to transfer learning.**"
      ],
      "metadata": {
        "id": "1u4l4znlBses"
      }
    }
  ]
}